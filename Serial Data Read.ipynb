{
 "cells": [
  {
   "cell_type": "code",
   "execution_count": null,
   "metadata": {},
   "outputs": [],
   "source": [
    "import serial\n",
    "import time"
   ]
  },
  {
   "cell_type": "markdown",
   "metadata": {},
   "source": [
    "Read Serial Data"
   ]
  },
  {
   "cell_type": "code",
   "execution_count": null,
   "metadata": {},
   "outputs": [],
   "source": [
    "ser=serial.Serial('COM4', 9600)\n",
    "time.sleep(2)"
   ]
  },
  {
   "cell_type": "markdown",
   "metadata": {},
   "source": [
    "Print Serial Data"
   ]
  },
  {
   "cell_type": "code",
   "execution_count": null,
   "metadata": {},
   "outputs": [],
   "source": [
    "ser_bytes = ser.readline()"
   ]
  },
  {
   "cell_type": "code",
   "execution_count": null,
   "metadata": {},
   "outputs": [],
   "source": [
    "import csv\n",
    "ser.flushInput()\n",
    "\n",
    "while True:\n",
    "    try:\n",
    "        ser_bytes = ser.readline()\n",
    "        decoded_bytes = float(ser_bytes[0:len(ser_bytes)-2].decode(\"utf-8\"))\n",
    "        print(decoded_bytes)\n",
    "        with open(\"test_data.csv\",\"a\") as f:\n",
    "            writer = csv.writer(f,delimiter=\",\")\n",
    "            writer.writerow([time.time(),decoded_bytes])\n",
    "    except:\n",
    "        print(\"Keyboard Interrupt\")\n",
    "        break"
   ]
  },
  {
   "cell_type": "markdown",
   "metadata": {},
   "source": [
    "# Real Time Data Visualization"
   ]
  },
  {
   "cell_type": "code",
   "execution_count": 1,
   "metadata": {},
   "outputs": [
    {
     "name": "stdout",
     "output_type": "stream",
     "text": [
      "0.0\n",
      "0.0\n",
      "0.0\n",
      "4.94\n",
      "4.94\n",
      "4.94\n",
      "4.94\n",
      "4.94\n",
      "4.94\n",
      "4.94\n",
      "4.94\n",
      "0.0\n",
      "3.37\n",
      "3.37\n",
      "3.37\n",
      "3.37\n",
      "3.37\n",
      "3.37\n",
      "3.37\n",
      "3.37\n",
      "3.37\n",
      "3.37\n",
      "3.37\n",
      "3.37\n",
      "3.37\n",
      "3.37\n",
      "3.37\n",
      "3.37\n",
      "3.37\n",
      "0.0\n",
      "3.37\n",
      "3.35\n",
      "3.37\n",
      "3.37\n",
      "3.37\n",
      "3.37\n",
      "3.35\n",
      "3.37\n",
      "3.37\n",
      "3.37\n",
      "3.37\n",
      "3.37\n",
      "3.37\n",
      "3.37\n",
      "3.37\n",
      "3.37\n",
      "3.37\n",
      "3.37\n",
      "3.37\n",
      "3.37\n",
      "3.37\n",
      "3.37\n",
      "3.37\n",
      "0.0\n",
      "4.94\n",
      "4.94\n",
      "4.94\n",
      "4.94\n",
      "4.94\n",
      "4.94\n",
      "4.94\n",
      "4.94\n",
      "4.94\n",
      "4.94\n",
      "4.94\n",
      "4.94\n",
      "4.94\n",
      "4.94\n",
      "4.94\n",
      "4.94\n",
      "4.94\n",
      "4.94\n",
      "4.94\n",
      "4.94\n",
      "4.94\n",
      "4.94\n",
      "4.94\n",
      "4.94\n",
      "4.94\n",
      "4.94\n",
      "4.91\n",
      "4.94\n",
      "4.94\n",
      "4.94\n",
      "4.94\n",
      "4.94\n",
      "4.94\n",
      "4.94\n",
      "4.94\n",
      "4.94\n",
      "4.94\n",
      "4.94\n",
      "4.94\n",
      "4.94\n",
      "4.94\n",
      "4.94\n",
      "4.91\n",
      "4.94\n",
      "4.94\n",
      "4.94\n",
      "4.94\n",
      "4.94\n",
      "4.94\n",
      "4.94\n",
      "4.91\n",
      "Keyboard Interrupt\n"
     ]
    }
   ],
   "source": [
    "import serial\n",
    "import time\n",
    "import csv\n",
    "import matplotlib\n",
    "matplotlib.use(\"tkAgg\")\n",
    "import matplotlib.pyplot as plt\n",
    "import numpy as np\n",
    "\n",
    "ser = serial.Serial('COM4', 9600)\n",
    "ser.flushInput()\n",
    "\n",
    "plot_window = 20\n",
    "y_var = np.array(np.zeros([plot_window]))\n",
    "\n",
    "plt.ion()\n",
    "fig, ax = plt.subplots()\n",
    "line, = ax.plot(y_var)\n",
    "\n",
    "while True:\n",
    "    try:\n",
    "        ser_bytes = ser.readline()\n",
    "        try:\n",
    "            decoded_bytes = float(ser_bytes[0:len(ser_bytes)-2].decode(\"utf-8\"))\n",
    "            print(decoded_bytes)\n",
    "        except:\n",
    "            continue\n",
    "        with open(\"test_data.csv\",\"a\") as f:\n",
    "            writer = csv.writer(f,delimiter=\",\")\n",
    "            writer.writerow([time.time(),decoded_bytes])\n",
    "        y_var = np.append(y_var,decoded_bytes)\n",
    "        y_var = y_var[1:plot_window+1]\n",
    "        line.set_ydata(y_var)\n",
    "        ax.relim()\n",
    "        ax.autoscale_view()\n",
    "        fig.canvas.draw()\n",
    "        fig.canvas.flush_events()\n",
    "    except:\n",
    "        print(\"Keyboard Interrupt\")\n",
    "        break"
   ]
  },
  {
   "cell_type": "code",
   "execution_count": null,
   "metadata": {},
   "outputs": [],
   "source": []
  }
 ],
 "metadata": {
  "kernelspec": {
   "display_name": "Python 3",
   "language": "python",
   "name": "python3"
  },
  "language_info": {
   "codemirror_mode": {
    "name": "ipython",
    "version": 3
   },
   "file_extension": ".py",
   "mimetype": "text/x-python",
   "name": "python",
   "nbconvert_exporter": "python",
   "pygments_lexer": "ipython3",
   "version": "3.8.5"
  }
 },
 "nbformat": 4,
 "nbformat_minor": 4
}
